{
 "cells": [
  {
   "cell_type": "markdown",
   "metadata": {},
   "source": [
    "# Approximating Option Greeks\n",
    "Mack Shaughnessy\n",
    "\n",
    "* [Introduction](#first-bullet)\n",
    "* [Implementing in a Class](#second-bullet)\n",
    "* [A Closer Look Through Extension of The Class](#third-bullet)\n",
    "* [Comparison With Analytical Solution](#fourth-bullet)\n",
    "* [Works Cited](#fifth-bullet)\n",
    "\n",
    "## Introduction <a class=\"anchor\" id=\"first-bullet\"></a>\n",
    "This notebook shows how option greeks can be approximated using partial derivatives of the the Black-Scholes equation. We will see that the approximations are easy to implement and accurate when compared to an analytical solution. However, the anlytical solutions for each of these greeks are widely available, often other models are used rather than the Black-Scholes, and the partial derivative method doesn't offer a speed advantage.  Perhaps the strength of this method lies in it's potential for generalization to other equations where an analytical solution is not easily obtainable.  For any equation or model that is implemented in a function such that the arguments are taken as a list, the partial derivative method can be used.  \n",
    "\n",
    "Each greek is a risk metric which describes the relationship between the price of an option (or one of the other greeks) and an input used to calculate that price (or greek).  We will look at:\n",
    "* **Delta:** rate of change between an option's price and a change in the underlying asset's price.\n",
    "* **Gamma:** rate of change between an option's delta and the underlying asset's price.\n",
    "* **Theta:** rate of change between the option's price and time to expiration.\n",
    "* **Vega:** rate of change between the option's price and underlying asset's volatility.\n",
    "We can think of each of these greeks as the partial derivative of the equation with respect to the input.\n",
    "\n",
    "We will create a class that prices a non-dividend paying, european option using Black-Scholes and approximates the greek value. The approximation will rely on a partial derivative function from the nlib library, shown below. [1]"
   ]
  },
  {
   "cell_type": "code",
   "execution_count": 1,
   "metadata": {
    "collapsed": true
   },
   "outputs": [],
   "source": [
    "def partial(f,i,h=1e-4):\n",
    "    def df(x,f=f,i=i,h=h):\n",
    "        x = list(x) # make copy of x\n",
    "        x[i] += h\n",
    "        f_plus = f(x)\n",
    "        x[i] -= 2*h\n",
    "        f_minus = f(x)\n",
    "        if isinstance(f_plus,(list,tuple)):\n",
    "            return [(f_plus[i]-f_minus[i])/(2*h) for i in xrange(len(f_plus))]\n",
    "        else:\n",
    "            return (f_plus-f_minus)/(2*h)\n",
    "    return df"
   ]
  },
  {
   "cell_type": "markdown",
   "metadata": {},
   "source": [
    "This is a functional that takes a function with a list argument and returns a function which can evaluate the partial derivative at a given point.  We specify the argument for which the derivative will be with respect to. Here is a quick example of how the function works:\n",
    "For the function $f(x) = 2x + 3y + 5yz$, $\\frac{\\partial f}{\\partial z}$ would be evaluated analytically as\n",
    "$\\frac{\\partial f}{\\partial y} = 3 + 5z$\n",
    "and if ${x,y,z} = {1,1,1}$ then $\\frac{\\partial f}{\\partial y} = 8$\n",
    "\n",
    "Implementing this into code:"
   ]
  },
  {
   "cell_type": "code",
   "execution_count": 2,
   "metadata": {},
   "outputs": [
    {
     "data": {
      "text/plain": [
       "8.0"
      ]
     },
     "execution_count": 2,
     "metadata": {},
     "output_type": "execute_result"
    }
   ],
   "source": [
    "def example_function(x):\n",
    "    return 2*x[0] + 3*x[1] + 5*x[1]*x[2]\n",
    "\n",
    "# specify the index 1 argument, or the \"y\"\n",
    "example_partial = partial(example_function,1)\n",
    "\n",
    "# the arguments\n",
    "x = (1,1,1)\n",
    "\n",
    "# the the partial derivative evalutated at (1,1,1)\n",
    "round(example_partial(x),1)"
   ]
  },
  {
   "cell_type": "markdown",
   "metadata": {},
   "source": [
    "## Implementing in a Class <a class=\"anchor\" id=\"second-bullet\"></a>\n",
    "To approximate the greeks, the partial function will be applied the Black-Scholes equation. These calculations are implemented in the class below."
   ]
  },
  {
   "cell_type": "code",
   "execution_count": 3,
   "metadata": {
    "collapsed": true
   },
   "outputs": [],
   "source": [
    "from scipy.stats import norm \n",
    "from math import sqrt, exp, log\n",
    "import pandas as pd\n",
    "import matplotlib.pyplot as plt\n",
    "%matplotlib inline\n",
    "\n",
    "class Black_Scholes:\n",
    "    \n",
    "    def __init__(self, parameters):\n",
    "        # make sure parameters are floats\n",
    "        self.parameters = map(float, parameters)\n",
    "    \n",
    "    # call price function\n",
    "    # doesnt compute option value, so that the partial derivative can be taken\n",
    "    # from the function\n",
    "    def call_price_fx(self, x):\n",
    "        # set parameters of equation\n",
    "        S0 = x[0] # underlying\n",
    "        K = x[1] # strike\n",
    "        r = x[2] # return\n",
    "        sigma = x[3] # volatility\n",
    "        T = x[4] # time to expiration\n",
    "        # find d1 and d2\n",
    "        d1 = (log(S0/K) + (r + sigma**2/2)*T) / (sigma * sqrt(T))\n",
    "        d2 = d1 - sigma*sqrt(T)\n",
    "        # find call price c\n",
    "        c = S0*norm.cdf(d1) - K*exp(-r*T)*norm.cdf(d2)\n",
    "        return c\n",
    "    \n",
    "    # value of call option\n",
    "    def call_price(self):\n",
    "        # get parameters\n",
    "        x = self.parameters\n",
    "        c = self.call_price_fx(x)\n",
    "        return c\n",
    "    \n",
    "    # call option greeks\n",
    "    def c_delta(self):\n",
    "        x = self.parameters\n",
    "        delta = partial(self.call_price_fx, 0)\n",
    "        return delta(x)\n",
    "    \n",
    "    def c_theta(self):\n",
    "        x = self.parameters\n",
    "        theta = partial(self.call_price_fx, 4)\n",
    "        return -theta(x)\n",
    "    \n",
    "    def c_gamma(self):\n",
    "        x = self.parameters\n",
    "        delta = partial(self.call_price_fx, 0)\n",
    "        gamma = partial(delta, 0) # second partial derivative..partial of delta\n",
    "        return gamma(x)\n",
    "    \n",
    "    # put price function\n",
    "    def put_price_fx(self, x):\n",
    "        # set parameters of equation\n",
    "        S0 = x[0] # underlying\n",
    "        K = x[1] # strike\n",
    "        r = x[2] # return\n",
    "        sigma = x[3] # volatility\n",
    "        T = x[4] # time to expiration\n",
    "        # find d1 and d2\n",
    "        d1 = (log(S0/K) + (r + sigma**2/2)*T) / (sigma * sqrt(T))\n",
    "        d2 = d1 - sigma*sqrt(T)\n",
    "        # find put price p\n",
    "        p = K*exp(-r*T)*norm.cdf(-d2) - S0*norm.cdf(-d1)\n",
    "        return p\n",
    "    \n",
    "    def put_price(self):\n",
    "        x = self.parameters\n",
    "        p = self.put_price_fx(x)\n",
    "        return p\n",
    "    \n",
    "    # put option greeks\n",
    "    def p_delta(self):\n",
    "        x = self.parameters\n",
    "        delta = partial(self.put_price_fx, 0)\n",
    "        return delta(x)\n",
    "    \n",
    "    def p_theta(self):\n",
    "        x = self.parameters\n",
    "        theta = partial(self.put_price_fx, 4)\n",
    "        return -theta(x)\n",
    "    \n",
    "    def p_gamma(self):\n",
    "        x = self.parameters\n",
    "        delta = partial(self.put_price_fx, 0)\n",
    "        gamma = partial(delta, 0)\n",
    "        return gamma(x)"
   ]
  },
  {
   "cell_type": "markdown",
   "metadata": {},
   "source": [
    "For a put option where the underlying price is $\\$40$, strike price is $\\$50$, daily expected return is $.001$, daily volatility is $.03$, and days to expiration is $90$:"
   ]
  },
  {
   "cell_type": "code",
   "execution_count": 4,
   "metadata": {},
   "outputs": [
    {
     "name": "stdout",
     "output_type": "stream",
     "text": [
      "the price of the put is  8.21  and the delta is  -0.63\n"
     ]
    }
   ],
   "source": [
    "put = Black_Scholes((40, 50, .001, .03, 90))\n",
    "put_price = round(put.put_price(),2)\n",
    "put_delta = round(put.p_delta(),2)\n",
    "print 'the price of the put is ',put_price,' and the delta is ',put_delta"
   ]
  },
  {
   "cell_type": "markdown",
   "metadata": {},
   "source": [
    "We can compare a put and call option with the same paramters as the price of the underlying moves from $\\$1$ past the strike price of $\\$50$ to $\\$100$."
   ]
  },
  {
   "cell_type": "code",
   "execution_count": 5,
   "metadata": {},
   "outputs": [
    {
     "data": {
      "image/png": "[encoded data removed]",
      "text/plain": [
       "<matplotlib.figure.Figure at 0x44ea9f0>"
      ]
     },
     "metadata": {},
     "output_type": "display_data"
    }
   ],
   "source": [
    "S0,c0,p0 = [],[],[]\n",
    "for i in range(1,100):\n",
    "    params = [i, 50, .001, .03, 90]\n",
    "    option = Black_Scholes(params)\n",
    "    S0.append(i)\n",
    "    c0.append(option.call_price())\n",
    "    p0.append(option.put_price())\n",
    "\n",
    "pc_df = pd.DataFrame({'stock_price' : S0,\n",
    "                      'put_price' : p0,\n",
    "                      'call_price' : c0})\n",
    "\n",
    "pc_df.plot(x = 'stock_price',\n",
    "           y = ['put_price','call_price'],\n",
    "           xticks = range(0,100,10)\n",
    "          ).set(xlabel = 'Underlying Asset Price', ylabel = 'Option Price'); #semicolon suppresses console output for chart"
   ]
  },
  {
   "cell_type": "markdown",
   "metadata": {},
   "source": [
    "## A Closer Look Through Extension of the Class <a class=\"anchor\" id=\"third-bullet\"></a>\n",
    "Let's have a closer look at how the greeks are approximated by extending the class to include vega.\n",
    "\n",
    "Vega is expressed as $\\frac{\\partial V}{\\partial \\sigma}$, so it is the partial derivative of the equation with respect to sigma. In the method below, the partial function is applied to the third component of the Black-Scholes equation which is the sigma component of our implementation."
   ]
  },
  {
   "cell_type": "code",
   "execution_count": 6,
   "metadata": {},
   "outputs": [
    {
     "data": {
      "image/png": "[encoded data removed]",
      "text/plain": [
       "<matplotlib.figure.Figure at 0xafa8730>"
      ]
     },
     "metadata": {},
     "output_type": "display_data"
    }
   ],
   "source": [
    "# extend the class to include vega\n",
    "class Black_Scholes_w_Vega(Black_Scholes):\n",
    "    # call option vega\n",
    "    def c_vega(self):\n",
    "        x = self.parameters\n",
    "        vega = partial(self.call_price_fx, 3)\n",
    "        return vega(x)*.01\n",
    "    # put option vega\n",
    "    def p_vega(self):\n",
    "        x = self.parameters\n",
    "        vega = partial(self.call_price_fx, 3)\n",
    "        return vega(x)*.01\n",
    "\n",
    "# chart vega with put and call delta\n",
    "delt_c, delt_p, vega, S0 = [],[],[],[]\n",
    "\n",
    "for i in range(1,100):\n",
    "    params = [i, 50, .001, .03, 90] #i, 50, .001, .03, 90 #i, 50, .05, .2, .3846\n",
    "    option = Black_Scholes_w_Vega(params)\n",
    "    S0.append(i)\n",
    "    delt_c.append(option.c_delta())\n",
    "    delt_p.append(option.p_delta())\n",
    "    vega.append(option.c_vega())\n",
    "\n",
    "cpdv_df = pd.DataFrame({'stock_price' : S0,\n",
    "                        'put_delta' : delt_p,\n",
    "                        'call_delta' : delt_c,\n",
    "                        'vega' : vega})\n",
    "\n",
    "cpdv_df.plot(x = 'stock_price',\n",
    "             y = ['put_delta','call_delta', 'vega'],\n",
    "             xticks = range(0,100,10)\n",
    "            ).set(xlabel = 'Underlying Asset Price');    "
   ]
  },
  {
   "cell_type": "markdown",
   "metadata": {},
   "source": [
    "## Comparison with an Analytical Solution <a class=\"anchor\" id=\"fourth-bullet\"></a>\n",
    "Let's check on the approximation by finding an analytical solution for vega and comparing the results. We will borrow an example from \"Options, Futures, and Other Derivatives\" [2] and use annualized inputs. Our new inputs become:\n",
    "* underlying $\\$49$\n",
    "* strike $\\$50$\n",
    "* return or risk-free $5\\%$\n",
    "* expiration $20$ weeks or $.3846$ years\n",
    "* volatility $5\\%$"
   ]
  },
  {
   "cell_type": "code",
   "execution_count": 7,
   "metadata": {},
   "outputs": [
    {
     "name": "stdout",
     "output_type": "stream",
     "text": [
      "approximated result is  0.121 , analytical result is  0.121 , and difference is  2.03436573143e-11\n"
     ]
    }
   ],
   "source": [
    "# analytical solution for vega\n",
    "def analytical_vega(S0, K, r, sigma, T):\n",
    "    d1 = (log(S0/K) + (r + sigma**2/2)*T) / (sigma * sqrt(T))\n",
    "    vega = S0*sqrt(T)*norm.pdf(d1)*.01 #prob density fx not cumulative\n",
    "    return vega\n",
    "\n",
    "analytical_result = analytical_vega(49.0, 50.0, .05, .2, .3846)\n",
    "\n",
    "# approximate solution for vega\n",
    "approx = Black_Scholes_w_Vega([49, 50, .05, .2, .3846])\n",
    "approx_result = approx.c_vega()\n",
    "\n",
    "# compare\n",
    "delta = abs(approx_result - analytical_result)\n",
    "print 'approximated result is ',round(approx_result,3), ', analytical result is ',round(analytical_result,3),', and difference is ', delta\n"
   ]
  },
  {
   "cell_type": "markdown",
   "metadata": {},
   "source": [
    "A plot of the greeks we havent looked at yet, gamma and theta."
   ]
  },
  {
   "cell_type": "code",
   "execution_count": 8,
   "metadata": {},
   "outputs": [
    {
     "data": {
      "image/png": "[encoded data removed]",
      "text/plain": [
       "<matplotlib.figure.Figure at 0x44ea190>"
      ]
     },
     "metadata": {},
     "output_type": "display_data"
    }
   ],
   "source": [
    "S0,gamma, theta = [],[],[]\n",
    "for i in range(1,100):\n",
    "    params = [i, 50, .001, .03, 90]\n",
    "    option = Black_Scholes(params)\n",
    "    S0.append(i)\n",
    "    gamma.append(option.c_gamma())\n",
    "    theta.append(option.c_theta())\n",
    "\n",
    "plt.subplot(2,1,1)\n",
    "plt.plot(S0, gamma)\n",
    "plt.title('Gama and Theta as S0 moves from \\$1 to \\$100')\n",
    "plt.ylabel('Gamma')\n",
    "plt.subplot(2,1,2)\n",
    "plt.plot(S0, theta)\n",
    "plt.ylabel('Theta')\n",
    "plt.xlabel('Underlying (\\$S0)');"
   ]
  },
  {
   "cell_type": "markdown",
   "metadata": {},
   "source": [
    "## Works Cited <a class=\"anchor\" id=\"fifth-bullet\"></a>\n",
    "[1] https://github.com/mdipierro/nlib\n",
    "\n",
    "[2] John C. Hull and Sankarshan Basu, \"Options, Futures, and Other Derivatives\", Eighth Edition, p. 419 "
   ]
  }
 ],
 "metadata": {
  "kernelspec": {
   "display_name": "Python 2",
   "language": "python",
   "name": "python2"
  },
  "language_info": {
   "codemirror_mode": {
    "name": "ipython",
    "version": 2
   },
   "file_extension": ".py",
   "mimetype": "text/x-python",
   "name": "python",
   "nbconvert_exporter": "python",
   "pygments_lexer": "ipython2",
   "version": "2.7.14"
  }
 },
 "nbformat": 4,
 "nbformat_minor": 2
}
